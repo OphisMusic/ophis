{
 "cells": [
  {
   "cell_type": "markdown",
   "metadata": {},
   "source": [
    "# Classical vs. Functional Modelling of Musical Arithmetic in Python\n"
   ]
  },
  {
   "cell_type": "markdown",
   "metadata": {},
   "source": [
    "I'm currently building a music theory library in Python, called [Ophis](https://github.com/OphisMusic/ophis)."
   ]
  },
  {
   "cell_type": "code",
   "execution_count": 1,
   "metadata": {
    "collapsed": true
   },
   "outputs": [],
   "source": [
    "import ophis"
   ]
  },
  {
   "cell_type": "markdown",
   "metadata": {},
   "source": [
    "This is an attempt create a utility that \"understands\" music theory and can manipulate music information, to be used as a base for other applications.  This would be handy for all sort of things, from music theory educational apps to AI composition.\n",
    "\n",
    "In this notebook, we'll look at how I originally implemented basic musical arithmetic in Ophis, the problems with that approach, and why I am moving from a classical to a functional design."
   ]
  },
  {
   "cell_type": "markdown",
   "metadata": {},
   "source": [
    "## A Classical OOP Design"
   ]
  },
  {
   "cell_type": "markdown",
   "metadata": {},
   "source": [
    "My first approach in implementing this was classically object oriented, and influenced by an essentially Platonic ontology. \n",
    "\n",
    "The idea was that musical building blocks would be, as much as possible, similar to integers. "
   ]
  },
  {
   "cell_type": "code",
   "execution_count": 2,
   "metadata": {},
   "outputs": [
    {
     "data": {
      "text/plain": [
       "{BDUBFLAT,\n",
       " GDUBSHARP,\n",
       " BFLAT,\n",
       " DDUBSHARP,\n",
       " F,\n",
       " DFLAT,\n",
       " D,\n",
       " ADUBFLAT,\n",
       " AFLAT,\n",
       " G,\n",
       " CFLAT,\n",
       " C,\n",
       " FDUBFLAT,\n",
       " GDUBFLAT,\n",
       " B,\n",
       " GSHARP,\n",
       " BSHARP,\n",
       " GFLAT,\n",
       " ASHARP,\n",
       " FDUBSHARP,\n",
       " CDUBFLAT,\n",
       " DDUBFLAT,\n",
       " E,\n",
       " EDUBFLAT,\n",
       " CSHARP,\n",
       " EFLAT,\n",
       " EDUBSHARP,\n",
       " FFLAT,\n",
       " A,\n",
       " BDUBSHARP,\n",
       " CDUBSHARP,\n",
       " DSHARP,\n",
       " ADUBSHARP,\n",
       " ESHARP,\n",
       " FSHARP}"
      ]
     },
     "execution_count": 2,
     "metadata": {},
     "output_type": "execute_result"
    }
   ],
   "source": [
    "# A `Chroma` is the *idea* of a note letter name (\"A\" or \"D FLAT\").\n",
    "# 35 chromae are initialized and assigned to constants at load time, \n",
    "#   representing all 7 letter names, with sharps, flats, double sharps, \n",
    "#   and double flats.\n",
    "\n",
    "ophis.wcs # Western Chroma Set, the complete list of all initialized chromae"
   ]
  },
  {
   "cell_type": "markdown",
   "metadata": {},
   "source": [
    "One of the main ideas here is that there is one and only one representation of the idea of *C SHARP* or *F NATURAL*\n",
    ". Moreover, the chromae can be inspected, and know how to represent themselves."
   ]
  },
  {
   "cell_type": "code",
   "execution_count": 3,
   "metadata": {},
   "outputs": [
    {
     "data": {
      "text/plain": [
       "'F♯'"
      ]
     },
     "execution_count": 3,
     "metadata": {},
     "output_type": "execute_result"
    }
   ],
   "source": [
    "ophis.FSHARP.unicode"
   ]
  },
  {
   "cell_type": "code",
   "execution_count": 4,
   "metadata": {},
   "outputs": [
    {
     "data": {
      "text/plain": [
       "'F#'"
      ]
     },
     "execution_count": 4,
     "metadata": {},
     "output_type": "execute_result"
    }
   ],
   "source": [
    "ophis.FSHARP.ascii"
   ]
  },
  {
   "cell_type": "code",
   "execution_count": 5,
   "metadata": {},
   "outputs": [
    {
     "data": {
      "text/plain": [
       "'F'"
      ]
     },
     "execution_count": 5,
     "metadata": {},
     "output_type": "execute_result"
    }
   ],
   "source": [
    "ophis.FSHARP.base"
   ]
  },
  {
   "cell_type": "markdown",
   "metadata": {},
   "source": [
    "Chromae also carry all the logic needed for musical manipulation and mathematical representation."
   ]
  },
  {
   "cell_type": "code",
   "execution_count": 6,
   "metadata": {},
   "outputs": [
    {
     "data": {
      "text/plain": [
       "6"
      ]
     },
     "execution_count": 6,
     "metadata": {},
     "output_type": "execute_result"
    }
   ],
   "source": [
    "int(ophis.FSHARP) "
   ]
  },
  {
   "cell_type": "code",
   "execution_count": 7,
   "metadata": {},
   "outputs": [
    {
     "data": {
      "text/plain": [
       "G"
      ]
     },
     "execution_count": 7,
     "metadata": {},
     "output_type": "execute_result"
    }
   ],
   "source": [
    "ophis.FSHARP.augment()"
   ]
  },
  {
   "cell_type": "code",
   "execution_count": 8,
   "metadata": {},
   "outputs": [
    {
     "data": {
      "text/plain": [
       "F"
      ]
     },
     "execution_count": 8,
     "metadata": {},
     "output_type": "execute_result"
    }
   ],
   "source": [
    "ophis.FSHARP.diminish()"
   ]
  },
  {
   "cell_type": "markdown",
   "metadata": {},
   "source": [
    "A `Pitch` is a `Chroma` with an octave designation. Using the special `__call__` method on `Chroma`, and the `__repr__` method on `Pitch`, I was able to make their interactive representation is intuitive.\n",
    "\n",
    "```python\n",
    "\n",
    "# in Chroma class\n",
    "\n",
    "def __call__(self, octave):\n",
    "    return Pitch(self, octave)\n",
    "\n",
    "# in Pitch class:\n",
    "\n",
    "def __repr__(self):\n",
    "    return self.chroma.name + \"(\" + self.octave + \")\"\n",
    "    \n",
    "```"
   ]
  },
  {
   "cell_type": "code",
   "execution_count": 9,
   "metadata": {},
   "outputs": [
    {
     "data": {
      "text/plain": [
       "GFLAT(2)"
      ]
     },
     "execution_count": 9,
     "metadata": {},
     "output_type": "execute_result"
    }
   ],
   "source": [
    "# The \"standard Python\" way to create a pitch. \n",
    "ophis.Pitch(ophis.GFLAT, 2)"
   ]
  },
  {
   "cell_type": "code",
   "execution_count": 11,
   "metadata": {},
   "outputs": [
    {
     "data": {
      "text/plain": [
       "GFLAT(2)"
      ]
     },
     "execution_count": 11,
     "metadata": {},
     "output_type": "execute_result"
    }
   ],
   "source": [
    "# The Ophis canonical way.\n",
    "\n",
    "ophis.GFLAT(2)"
   ]
  },
  {
   "cell_type": "markdown",
   "metadata": {},
   "source": [
    "`Intervals` (without octaves) and `QualifiedIntervals` (with octaves) have a similar relationship to each other as `Chroma` and `Pitch`. \n",
    "\n",
    "Rather than initializing every possible musical interval, the qualities (major, minor, perfect, augmented, diminished) are initialized and callable, to create an intuitive API. "
   ]
  },
  {
   "cell_type": "code",
   "execution_count": 12,
   "metadata": {},
   "outputs": [
    {
     "data": {
      "text/plain": [
       "Major(2)"
      ]
     },
     "execution_count": 12,
     "metadata": {},
     "output_type": "execute_result"
    }
   ],
   "source": [
    "ophis.Major(2) # A Major second."
   ]
  },
  {
   "cell_type": "code",
   "execution_count": 13,
   "metadata": {},
   "outputs": [
    {
     "data": {
      "text/plain": [
       "Perfect(4)^2"
      ]
     },
     "execution_count": 13,
     "metadata": {},
     "output_type": "execute_result"
    }
   ],
   "source": [
    "ophis.Perfect(4, 2) # A Perfect fourth, plus 2 octaves."
   ]
  },
  {
   "cell_type": "markdown",
   "metadata": {},
   "source": [
    "Function caching is used to ensure that only one of any interval is created. (Some experimental benchmarking showed that this would matter in large scores.)"
   ]
  },
  {
   "cell_type": "code",
   "execution_count": 14,
   "metadata": {},
   "outputs": [
    {
     "data": {
      "text/plain": [
       "True"
      ]
     },
     "execution_count": 14,
     "metadata": {},
     "output_type": "execute_result"
    }
   ],
   "source": [
    "id(ophis.minor(2).augmented()) == id(ophis.Major(2))"
   ]
  },
  {
   "cell_type": "markdown",
   "metadata": {},
   "source": [
    "And, of course, you can use both types of intervals to manipulate chromae and pitches."
   ]
  },
  {
   "cell_type": "code",
   "execution_count": 15,
   "metadata": {},
   "outputs": [
    {
     "data": {
      "text/plain": [
       "A"
      ]
     },
     "execution_count": 15,
     "metadata": {},
     "output_type": "execute_result"
    }
   ],
   "source": [
    "ophis.G + ophis.Major(2)"
   ]
  },
  {
   "cell_type": "code",
   "execution_count": 16,
   "metadata": {},
   "outputs": [
    {
     "data": {
      "text/plain": [
       "E(3)"
      ]
     },
     "execution_count": 16,
     "metadata": {},
     "output_type": "execute_result"
    }
   ],
   "source": [
    "ophis.A(2) + ophis.Perfect(5)"
   ]
  },
  {
   "cell_type": "code",
   "execution_count": 17,
   "metadata": {},
   "outputs": [
    {
     "data": {
      "text/plain": [
       "GSHARP(3)"
      ]
     },
     "execution_count": 17,
     "metadata": {},
     "output_type": "execute_result"
    }
   ],
   "source": [
    "ophis.FSHARP(1) + ophis.Major(2, 2)"
   ]
  },
  {
   "cell_type": "markdown",
   "metadata": {},
   "source": [
    "All this lets you do complicated musical manipulation and representation."
   ]
  },
  {
   "cell_type": "code",
   "execution_count": 18,
   "metadata": {},
   "outputs": [
    {
     "data": {
      "text/plain": [
       "'B♭'"
      ]
     },
     "execution_count": 18,
     "metadata": {},
     "output_type": "execute_result"
    }
   ],
   "source": [
    "(ophis.FFLAT + ophis.Perfect(5)).diminish().unicode"
   ]
  },
  {
   "cell_type": "markdown",
   "metadata": {},
   "source": [
    "Obviously, all this is only the beginning of what is needed for a music theory library. But it *is* a beginning. The next submodule will build up `Duration` and `TimeSignature`, leading to the creation of `Measure` and eventually `Score`. My current plan is to use `pandas.DataFrame` for multi-voice scores, as that would allow cross-voice analysis in a way that multi-dimensional lists would not."
   ]
  },
  {
   "cell_type": "markdown",
   "metadata": {},
   "source": [
    "## Problems Appear"
   ]
  },
  {
   "cell_type": "markdown",
   "metadata": {},
   "source": [
    "So that's great, but...\n",
    "\n",
    "I can't but help wonder if some of this is overwrought.\n",
    "\n",
    "A number of interrelated concerns occured to me while working on this implementation."
   ]
  },
  {
   "cell_type": "markdown",
   "metadata": {},
   "source": [
    "### Logic is hard to reason about\n",
    "\n",
    "The math of moving from note to note is riddled with off-by-one and modulo arithmetic problems. \n",
    "\n",
    " - An interval representing no change (from a note to itself) is called a *unison*, represented with a 1. A difference of one step is called a *second*, and so on.\n",
    " - The first scale degree is 1. (Not zero indexed.)\n",
    " - We frequently think about scales as having eight notes, but in reality they only have seven. When this is zero indexed, the notes go from 0-6. This is fine for arithmetic, but when thinking as a musician it is jarring.\n",
    " \n",
    "Because of this difficulty in clear thinking on my part, I often found myself using the guess-and-check method for remembering when to add or subtract a one. \n",
    "\n",
    "I wrote rigorous [tests](https://github.com/OphisMusic/ophis/tree/master/tests) along the way to keep these errors out, so everything ends up fine in the end. However, this made for slow and sometimes demoralizing progress, and I would hate to have to go back and reason about this code after being away from it."
   ]
  },
  {
   "cell_type": "markdown",
   "metadata": {},
   "source": [
    "### Incorrect assumptions about logical order\n",
    "\n",
    "The first attempt to implement basic `Chroma` functionality assumed that `Interval` &mdash; the relationship between two chromae &mdash; would depend on `Chroma`. It turns out this is exactly backwards. `Interval` is logically prior to `Chroma`. There is no way to define abstract named pitches without their relationships already existing.\n",
    "\n",
    "Practically speaking, discovering this simply meant I had to re-order some code. But this challenged my thinking about what the fundamental building blocks of music theory actually are."
   ]
  },
  {
   "cell_type": "markdown",
   "metadata": {},
   "source": [
    "### Convoluted logic and utility data structures\n",
    "\n",
    "Here's an example, the `augment` method from the `Chroma` class.\n",
    "\n",
    "```python\n",
    "\n",
    "def augment(self, magnitude=1, modifier_preference=\"sharp\"):\n",
    "    \"\"\"Return a chroma higher than the one given.\n",
    "\n",
    "    Args:\n",
    "        magnitude (:obj:`int`, :obj:`Interval`,\n",
    "                   or obj with an ``int`` value; optional): \n",
    "            the distance to augment by. \n",
    "            Integer values are interpreted as half steps. \n",
    "            Defaults to 1.\n",
    "        modifier_preference (:obj:`str`, \n",
    "                             ``'sharp'`` or ``'flat'``;\n",
    "                             optional)\n",
    "            Defaults to ``'sharp'``. \n",
    "\n",
    "    Examples:\n",
    "\n",
    "        >>> C.augment()\n",
    "        CSHARP\n",
    "\n",
    "        >>> C.augment(1, 'flat')\n",
    "        DFLAT\n",
    "        \n",
    "        >>> C.augment(minor(3))\n",
    "        EFLAT\n",
    "\n",
    "        >>> D.augment(2)\n",
    "        E\n",
    "\n",
    "        >>> E.augment()\n",
    "        F\n",
    "\n",
    "        >>> E.augment(2, 'flat')\n",
    "        GFLAT\n",
    "    \"\"\"\n",
    "\n",
    "    value_candidates =  self.essential_set.chroma_by_value(int(self) + int(magnitude))\n",
    "    try:\n",
    "        letter_candidates = self.essential_set.chroma_by_letter( self.base_num + magnitude.distance)\n",
    "        solution, = value_candidates & letter_candidates\n",
    "        return solution\n",
    "    except:\n",
    "        return value_candidates.enharmonic_reduce(modifier_preference)\n",
    "```\n",
    "\n",
    "If it isn't obvious, here's what it does:\n",
    "\n",
    " - Calculate the integer value of the target `Chroma` and find the set of `Chroma` objects which have the integer value we're looking for. \n",
    " - Try:\n",
    "    - Calculate the letter name of the target `Chroma` and find the set of `Chroma` that have the name value we're looking for.\n",
    "    - Find and return the union of the integer-value set and the note-name value set.\n",
    " - Except:\n",
    "    - Return a member of the integer-value set, basing the selection on some logic (defined elsewhere) that prefers sharps to flats or flats to sharps in certain instances.\n",
    "    \n",
    "This works, but it isn't at all how a musician thinks about this operation. Moreover, it depends on the `essential_set`, the collection of all initialized chromae. (Referred to above as `wcs`, the Wesern Chroma Set.) It would be bad enough if this was *just* used to keep the pool of initialized chromae, so that methods returning *C Sharp* always returned the same *C Sharp*. But it doesn't just do that. An inordinate amount of musical knowledge and logic crept into the `ChromaSet` class that defines the `essential_set`. While I'm positive that some of this is due to bad *coding* on my part, I think the bulk of it is due to bad *conceptualization*. \n",
    "\n",
    "The final problem with this is that it is non-obvious. This code is hard to read and reason about, because it isn't clear what is actually happening."
   ]
  },
  {
   "cell_type": "markdown",
   "metadata": {},
   "source": [
    "### Fragile Primitives\n",
    "\n",
    "Python doesn't *really* allow you to protect object attributes or module-level constants. There are some things you can do to ensure object attributes aren't reassigned accidentally (and I've done them), but (as far as I can tell) module-level constants cannot be protected.\n",
    "\n",
    "This is a problem, since the fundamental building blocks of music theory in the current implementation are initialized as constants. The object representing *C Sharp* is created and assigned to the name `CSHARP`. If that name gets reassigned, *you are basically hosed*. This could lead to hard-to-trace errors and frustrating interactive sessions."
   ]
  },
  {
   "cell_type": "markdown",
   "metadata": {},
   "source": [
    "### Poor isomorphism to numbers\n",
    "\n",
    "One of the design goals of Ophis is to be able to treat musical concepts as numbers. That's why the arithmetic operators are implemented and everything has an integer value. I wanted it to be easy for math utilities to operate on pitches and intervals. This would enable things like advanced theoretical analysis  and machine learning.\n",
    "\n",
    "But, they *aren't* numbers. They just aren't.\n",
    "\n",
    "You can't (meaningfully) have a Chroma with a float, decimal, or fractional value. This means that [microtones](https://en.wikipedia.org/wiki/Microtonal_music) are not presently accounted for and will require an extension, the logic of which I can only guess at. \n",
    "\n",
    "You also can't meaningfully multiply or divide values. Offhand, I'm not sure why you would want to do so, but I can imagine approaches to musical analysis where it would be needed.\n",
    "\n",
    "Further, even with supported integer-based operations, using any standard math tool requires notes from a score to be converted into numbers, manipulated or analyzed, and converted back. There's no direct access to Ophis \"primitives\" in Numpy, SciKitLearn, or anything else.\n",
    "\n"
   ]
  },
  {
   "cell_type": "markdown",
   "metadata": {},
   "source": [
    "These problems piled up over time as I implemented the basic logic and worked out the implications. Technical debt accumulates through a process of small compromises and justifications. By the time I became aware of the scope of the problem, I had two thoughts:\n",
    "\n",
    " - Re-architecting everything would take too long to be worthwhile. I would probably get disheartened and give up.\n",
    " - I can refactor the internals in the future to make things a bit clearer and cleaner. In the meantime, good documentation would make the code maintainable.\n",
    " \n",
    "So, my plan was to just keep moving. But then, thinking about the isomorphism problem, I realized another poorly-mapped isomorphism.\n"
   ]
  },
  {
   "cell_type": "markdown",
   "metadata": {},
   "source": [
    "### Poor isomorphism between Chroma and Intervals\n",
    "\n",
    "Or really, no explicit isomorphism at all. And this is a problem because these are really *the same thing*.\n",
    "\n",
    "I had implemented the `Interval` class, and written all the logic for how intervals are inverted, augmented, and diminished. This requires understanding of the interplay between interval distances (third, fourth, sixth) and their qualities (Major, minor, Perfect), and how many half-steps each are. And of course there's that zero-indexing stuff to think about (second = 1, third = 2).\n",
    "\n",
    "Then I implemented the `Chroma` class, and wrote almost the same logic (but just a bit different) for how pitches are augmented and diminished (pitches aren't inverted). This requires an understanding of the interplay between note letter names (C, D, E), how those letter names map to a zero-indexed numerical representation (C = 0, D = 1, E = 2), and how modifiers like *sharp* and *flat* affect the total number of halfsteps from C (the origin point in modern music theory). \n",
    "\n",
    "But these are, as I said, *exactly the same thing*.\n",
    "\n",
    "Every note can be represented as an interval from C. And not only can it be represented that way, but that is exactly how it was already defined. There is no other reasonable way to (numerically) define notes.\n",
    "\n",
    "Here's an example in case this isn't clear:\n",
    "\n",
    " - *E Natural* is a Major Third away from *C*. \n",
    " - In our zero-indexed representation intervals, a Third is `2`.\n",
    " - A Major Third is `4` half-steps. \n",
    "\n",
    "Those two numbers, `(2, 4)`, are an integral part of the definition of *E Natural*; without them, you can't do any of the manipulation that makes the `Chroma` meaningful."
   ]
  },
  {
   "cell_type": "code",
   "execution_count": 19,
   "metadata": {},
   "outputs": [
    {
     "name": "stdout",
     "output_type": "stream",
     "text": [
      "2 4\n",
      "2 4\n"
     ]
    }
   ],
   "source": [
    "print(ophis.Major(3).distance, int(ophis.Major(3)))\n",
    "print(ophis.E.base_num, int(ophis.E))"
   ]
  },
  {
   "cell_type": "markdown",
   "metadata": {},
   "source": [
    "Obviously, this holds for every other `Chroma` as well."
   ]
  },
  {
   "cell_type": "code",
   "execution_count": 20,
   "metadata": {},
   "outputs": [
    {
     "name": "stdout",
     "output_type": "stream",
     "text": [
      "4 7\n",
      "4 7\n"
     ]
    }
   ],
   "source": [
    "print(ophis.Perfect(5).distance, int(ophis.Perfect(5)))\n",
    "print(ophis.G.base_num, int(ophis.G))"
   ]
  },
  {
   "cell_type": "code",
   "execution_count": 21,
   "metadata": {},
   "outputs": [
    {
     "name": "stdout",
     "output_type": "stream",
     "text": [
      "5 10\n",
      "5 10\n"
     ]
    }
   ],
   "source": [
    "print(ophis.Augmented(6).distance, int(ophis.Augmented(6)))\n",
    "print(ophis.ASHARP.base_num, int(ophis.ASHARP))"
   ]
  },
  {
   "cell_type": "markdown",
   "metadata": {},
   "source": [
    "Further, it turns out that these two numbers are the *only* things you need to know in order to do any standard musical manipulation you might want to do. "
   ]
  },
  {
   "cell_type": "code",
   "execution_count": 22,
   "metadata": {},
   "outputs": [
    {
     "data": {
      "text/plain": [
       "(6, 11)"
      ]
     },
     "execution_count": 22,
     "metadata": {},
     "output_type": "execute_result"
    }
   ],
   "source": [
    "g_or_p5 = (4,7) # Tuple representing G or a Perfect Fifth\n",
    "e_or_maj3 = (2,4) # Tuple representing E or a Major Third\n",
    "\n",
    "# Add tuples element wise.\n",
    "sum_of_tuples = (g_or_p5[0]+e_or_maj3[0], g_or_p5[1]+e_or_maj3[1])\n",
    "\n",
    "sum_of_tuples # (6,11)"
   ]
  },
  {
   "cell_type": "code",
   "execution_count": 23,
   "metadata": {},
   "outputs": [
    {
     "name": "stdout",
     "output_type": "stream",
     "text": [
      "B\n",
      "B\n"
     ]
    }
   ],
   "source": [
    "g_augmented_by_maj3 = ophis.G.augment(ophis.Major(3))\n",
    "e_augmented_by_p5 = ophis.E.augment(ophis.Perfect(5))\n",
    "\n",
    "print(g_augmented_by_maj3)\n",
    "print(e_augmented_by_p5)"
   ]
  },
  {
   "cell_type": "code",
   "execution_count": 24,
   "metadata": {},
   "outputs": [
    {
     "name": "stdout",
     "output_type": "stream",
     "text": [
      "6 11\n"
     ]
    }
   ],
   "source": [
    "print(ophis.B.base_num, int(ophis.B)) "
   ]
  },
  {
   "cell_type": "code",
   "execution_count": 25,
   "metadata": {},
   "outputs": [
    {
     "data": {
      "text/plain": [
       "Major(7)"
      ]
     },
     "execution_count": 25,
     "metadata": {},
     "output_type": "execute_result"
    }
   ],
   "source": [
    "z = ophis.Perfect(5) + ophis.Major(3)\n",
    "z"
   ]
  },
  {
   "cell_type": "code",
   "execution_count": 26,
   "metadata": {},
   "outputs": [
    {
     "name": "stdout",
     "output_type": "stream",
     "text": [
      "6 11\n"
     ]
    }
   ],
   "source": [
    "print(z.distance, int(z)) "
   ]
  },
  {
   "cell_type": "markdown",
   "metadata": {},
   "source": [
    "So any chroma and any interval can be represented by a two-tuple, while manipulations originally implemented as methods in different classes can be a unified set of pure functions that accept tuples as arguments. \n",
    "\n",
    "Great."
   ]
  },
  {
   "cell_type": "markdown",
   "metadata": {},
   "source": [
    "But two-tuples don't provide all the additional information you need to notate pitches or otherwise make them understandable *as music*.\n",
    "\n",
    "So we need some \"translation\" functions. This still involves a lot of \"magic number\" coding, but hopefully it can be condensed into a small set of mappings that are easy to reason about."
   ]
  },
  {
   "cell_type": "code",
   "execution_count": 27,
   "metadata": {
    "collapsed": true
   },
   "outputs": [],
   "source": [
    "import bidict # efficient two-way indexing of dicts\n",
    "\n",
    "primary_map = [\n",
    "    # half steps, scale degree / interval number, interval name, \n",
    "    # letter name, Perfect? (False=Major) \n",
    "    (0,  1, \"unison\",  \"C\", True),  #0\n",
    "    (2,  2, \"second\",  \"D\", False), #1\n",
    "    (4,  3, \"third\",   \"E\", False), #2\n",
    "    (5,  4, \"fourth\",  \"F\", True),  #3\n",
    "    (7,  5, \"fifth\",   \"G\", True),  #4\n",
    "    (9,  6, \"sixth\",   \"A\", False), #5\n",
    "    (11, 7, \"seventh\", \"B\", False)  #6\n",
    "]\n",
    "\n",
    "# Split primary map into quickly-accessible bidicts for each value.\n",
    "hs_map = bidict.bidict({x:item[0] for x, item in enumerate(primary_map)})\n",
    "interval_map = bidict.bidict({x:item[1] for x, item in enumerate(primary_map)})\n",
    "interval_name_map = bidict.bidict({x:item[2] for x, item in enumerate(primary_map)})\n",
    "name_map = bidict.bidict({x:item[3] for x, item in enumerate(primary_map)})\n",
    "quality_map = {x:item[4] for x, item in enumerate(primary_map)}\n",
    "\n",
    "# How to translate between diatonic intervals and modified intervals.\n",
    "interval_quality_map = {\n",
    "    True: bidict.bidict({ # Diatonic is Perfect\n",
    "        -2 : 'double diminished', \n",
    "        -1 : 'diminished', \n",
    "         0 : 'Perfect',\n",
    "         1 : 'Augmented', \n",
    "         2 : 'Double Augmented'\n",
    "    }),\n",
    "    False: bidict.bidict({ # Diatonic is Major\n",
    "        -2 : 'diminished', \n",
    "        -1 : 'minor', \n",
    "         0 : 'Major', \n",
    "         1 : 'Augmented', \n",
    "         2 : 'Double Augmented'\n",
    "    })\n",
    "}\n",
    "\n",
    "modifiers = bidict.bidict({\n",
    "    -2 : 'doubleflat',\n",
    "    -1 : 'flat',\n",
    "     0 : 'natural',\n",
    "     1 : 'sharp', \n",
    "     2 : 'doublesharp'\n",
    "})"
   ]
  },
  {
   "cell_type": "code",
   "execution_count": 28,
   "metadata": {
    "collapsed": true
   },
   "outputs": [],
   "source": [
    "import functools\n",
    "\n",
    "# Single Dispatch lets us write two functions with the same signature.\n",
    "# The type of the first argument determines which function is exectured.\n",
    "# This way, if a tuple is passed in, a string is returned,\n",
    "# and if a string is passed in, a tuple is returned.\n",
    "\n",
    "@functools.singledispatch\n",
    "def chroma(x):\n",
    "    return None\n",
    "\n",
    "@chroma.register(tuple)\n",
    "def _(xy):\n",
    "    x,y = xy\n",
    "    name = name_map[x]\n",
    "    modifier = modifiers[y - hs_map[x]]\n",
    "    return \" \".join([name, modifier])\n",
    "\n",
    "@chroma.register(str)\n",
    "def _(letter, modifier):\n",
    "    x = name_map.inv[letter]\n",
    "    mod_diff = modifiers.inv[modifier]\n",
    "    y = hs_map[x] + mod_diff\n",
    "    return x,y\n",
    "\n",
    "@functools.singledispatch\n",
    "def interval(x):\n",
    "    return None\n",
    "\n",
    "@interval.register(tuple)\n",
    "def _(xy):\n",
    "    x,y = xy\n",
    "    name = interval_name_map[x]\n",
    "    quality_modifier = y - hs_map[x]\n",
    "    quality = interval_quality_map[quality_map[y]][quality_modifier]\n",
    "    return \" \".join([quality, name])\n",
    "\n",
    "@interval.register(str)\n",
    "def _(quality, number):\n",
    "    x = number - 1\n",
    "    is_perfect = quality_map[x]\n",
    "    quality_modifier = interval_quality_map[is_perfect].inv[quality]\n",
    "    y = hs_map[x] + quality_modifier\n",
    "    return x, y\n",
    "    \n",
    "def augment(a, b):\n",
    "    return tuple(map(sum,zip(a,b)))\n",
    "\n",
    "def diminish(a, b):\n",
    "    return tuple(y - b[x] for x,y in enumerate(a))"
   ]
  },
  {
   "cell_type": "code",
   "execution_count": 29,
   "metadata": {},
   "outputs": [
    {
     "data": {
      "text/plain": [
       "'C natural'"
      ]
     },
     "execution_count": 29,
     "metadata": {},
     "output_type": "execute_result"
    }
   ],
   "source": [
    "chroma((0,0))"
   ]
  },
  {
   "cell_type": "code",
   "execution_count": 30,
   "metadata": {},
   "outputs": [
    {
     "data": {
      "text/plain": [
       "'diminished third'"
      ]
     },
     "execution_count": 30,
     "metadata": {},
     "output_type": "execute_result"
    }
   ],
   "source": [
    "interval((2,3))"
   ]
  },
  {
   "cell_type": "code",
   "execution_count": 31,
   "metadata": {},
   "outputs": [
    {
     "data": {
      "text/plain": [
       "(1, 3)"
      ]
     },
     "execution_count": 31,
     "metadata": {},
     "output_type": "execute_result"
    }
   ],
   "source": [
    "chroma('D', 'sharp')"
   ]
  },
  {
   "cell_type": "code",
   "execution_count": 32,
   "metadata": {},
   "outputs": [
    {
     "data": {
      "text/plain": [
       "(2, 4)"
      ]
     },
     "execution_count": 32,
     "metadata": {},
     "output_type": "execute_result"
    }
   ],
   "source": [
    "interval('Major', 3)"
   ]
  },
  {
   "cell_type": "code",
   "execution_count": 33,
   "metadata": {},
   "outputs": [
    {
     "data": {
      "text/plain": [
       "'E natural'"
      ]
     },
     "execution_count": 33,
     "metadata": {},
     "output_type": "execute_result"
    }
   ],
   "source": [
    "chroma(augment(chroma('C', 'sharp'), interval('minor', 3)))"
   ]
  },
  {
   "cell_type": "code",
   "execution_count": 34,
   "metadata": {},
   "outputs": [
    {
     "name": "stdout",
     "output_type": "stream",
     "text": [
      "22.3 µs ± 1.4 µs per loop (mean ± std. dev. of 7 runs, 100000 loops each)\n"
     ]
    }
   ],
   "source": [
    "%timeit chroma(augment(chroma('C', 'sharp'), interval('minor', 3)))"
   ]
  },
  {
   "cell_type": "code",
   "execution_count": 35,
   "metadata": {},
   "outputs": [
    {
     "data": {
      "text/plain": [
       "E"
      ]
     },
     "execution_count": 35,
     "metadata": {},
     "output_type": "execute_result"
    }
   ],
   "source": [
    "ophis.CSHARP.augment(ophis.minor(3))"
   ]
  },
  {
   "cell_type": "code",
   "execution_count": 36,
   "metadata": {},
   "outputs": [
    {
     "name": "stdout",
     "output_type": "stream",
     "text": [
      "101 µs ± 3.95 µs per loop (mean ± std. dev. of 7 runs, 10000 loops each)\n"
     ]
    }
   ],
   "source": [
    "%timeit ophis.CSHARP.augment(ophis.minor(3))"
   ]
  },
  {
   "cell_type": "markdown",
   "metadata": {},
   "source": [
    "A functional approach:\n",
    "\n",
    " - simplifies the math and logic\n",
    " - preserves important isomorphisms\n",
    " - requires much less code\n",
    " - executes much faster\n",
    " \n",
    "The only downside is that the API for interactive use is a little less elegant, but not so much as to be a problem. "
   ]
  },
  {
   "cell_type": "markdown",
   "metadata": {},
   "source": [
    "## Where to Go From Here"
   ]
  },
  {
   "cell_type": "markdown",
   "metadata": {},
   "source": [
    "The quick functional implementation demonstrated here doesn't include all the things that the OO approach currently has. \n",
    "\n",
    "Foremost, this version needs to include modulo arithmetic. "
   ]
  },
  {
   "cell_type": "code",
   "execution_count": 37,
   "metadata": {},
   "outputs": [
    {
     "data": {
      "text/plain": [
       "(8, 12)"
      ]
     },
     "execution_count": 37,
     "metadata": {},
     "output_type": "execute_result"
    }
   ],
   "source": [
    "augment((7,11),(1,1)) # Should be (0,0), in musical logic."
   ]
  },
  {
   "cell_type": "code",
   "execution_count": 38,
   "metadata": {},
   "outputs": [
    {
     "ename": "KeyError",
     "evalue": "8",
     "output_type": "error",
     "traceback": [
      "\u001b[0;31m---------------------------------------------------------------------------\u001b[0m",
      "\u001b[0;31mKeyError\u001b[0m                                  Traceback (most recent call last)",
      "\u001b[0;32m<ipython-input-38-114c113c80ec>\u001b[0m in \u001b[0;36m<module>\u001b[0;34m()\u001b[0m\n\u001b[1;32m      1\u001b[0m \u001b[0;31m# This result is meaningless.\u001b[0m\u001b[0;34m\u001b[0m\u001b[0;34m\u001b[0m\u001b[0m\n\u001b[0;32m----> 2\u001b[0;31m \u001b[0mchroma\u001b[0m\u001b[0;34m(\u001b[0m\u001b[0;34m(\u001b[0m\u001b[0;36m8\u001b[0m\u001b[0;34m,\u001b[0m\u001b[0;36m12\u001b[0m\u001b[0;34m)\u001b[0m\u001b[0;34m)\u001b[0m\u001b[0;34m\u001b[0m\u001b[0m\n\u001b[0m",
      "\u001b[0;32m/Users/adamwood/amwenv/lib/python3.5/functools.py\u001b[0m in \u001b[0;36mwrapper\u001b[0;34m(*args, **kw)\u001b[0m\n\u001b[1;32m    741\u001b[0m \u001b[0;34m\u001b[0m\u001b[0m\n\u001b[1;32m    742\u001b[0m     \u001b[0;32mdef\u001b[0m \u001b[0mwrapper\u001b[0m\u001b[0;34m(\u001b[0m\u001b[0;34m*\u001b[0m\u001b[0margs\u001b[0m\u001b[0;34m,\u001b[0m \u001b[0;34m**\u001b[0m\u001b[0mkw\u001b[0m\u001b[0;34m)\u001b[0m\u001b[0;34m:\u001b[0m\u001b[0;34m\u001b[0m\u001b[0m\n\u001b[0;32m--> 743\u001b[0;31m         \u001b[0;32mreturn\u001b[0m \u001b[0mdispatch\u001b[0m\u001b[0;34m(\u001b[0m\u001b[0margs\u001b[0m\u001b[0;34m[\u001b[0m\u001b[0;36m0\u001b[0m\u001b[0;34m]\u001b[0m\u001b[0;34m.\u001b[0m\u001b[0m__class__\u001b[0m\u001b[0;34m)\u001b[0m\u001b[0;34m(\u001b[0m\u001b[0;34m*\u001b[0m\u001b[0margs\u001b[0m\u001b[0;34m,\u001b[0m \u001b[0;34m**\u001b[0m\u001b[0mkw\u001b[0m\u001b[0;34m)\u001b[0m\u001b[0;34m\u001b[0m\u001b[0m\n\u001b[0m\u001b[1;32m    744\u001b[0m \u001b[0;34m\u001b[0m\u001b[0m\n\u001b[1;32m    745\u001b[0m     \u001b[0mregistry\u001b[0m\u001b[0;34m[\u001b[0m\u001b[0mobject\u001b[0m\u001b[0;34m]\u001b[0m \u001b[0;34m=\u001b[0m \u001b[0mfunc\u001b[0m\u001b[0;34m\u001b[0m\u001b[0m\n",
      "\u001b[0;32m<ipython-input-28-f2a6c2b4cc47>\u001b[0m in \u001b[0;36m_\u001b[0;34m(xy)\u001b[0m\n\u001b[1;32m     13\u001b[0m \u001b[0;32mdef\u001b[0m \u001b[0m_\u001b[0m\u001b[0;34m(\u001b[0m\u001b[0mxy\u001b[0m\u001b[0;34m)\u001b[0m\u001b[0;34m:\u001b[0m\u001b[0;34m\u001b[0m\u001b[0m\n\u001b[1;32m     14\u001b[0m     \u001b[0mx\u001b[0m\u001b[0;34m,\u001b[0m\u001b[0my\u001b[0m \u001b[0;34m=\u001b[0m \u001b[0mxy\u001b[0m\u001b[0;34m\u001b[0m\u001b[0m\n\u001b[0;32m---> 15\u001b[0;31m     \u001b[0mname\u001b[0m \u001b[0;34m=\u001b[0m \u001b[0mname_map\u001b[0m\u001b[0;34m[\u001b[0m\u001b[0mx\u001b[0m\u001b[0;34m]\u001b[0m\u001b[0;34m\u001b[0m\u001b[0m\n\u001b[0m\u001b[1;32m     16\u001b[0m     \u001b[0mmodifier\u001b[0m \u001b[0;34m=\u001b[0m \u001b[0mmodifiers\u001b[0m\u001b[0;34m[\u001b[0m\u001b[0my\u001b[0m \u001b[0;34m-\u001b[0m \u001b[0mhs_map\u001b[0m\u001b[0;34m[\u001b[0m\u001b[0mx\u001b[0m\u001b[0;34m]\u001b[0m\u001b[0;34m]\u001b[0m\u001b[0;34m\u001b[0m\u001b[0m\n\u001b[1;32m     17\u001b[0m     \u001b[0;32mreturn\u001b[0m \u001b[0;34m\" \"\u001b[0m\u001b[0;34m.\u001b[0m\u001b[0mjoin\u001b[0m\u001b[0;34m(\u001b[0m\u001b[0;34m[\u001b[0m\u001b[0mname\u001b[0m\u001b[0;34m,\u001b[0m \u001b[0mmodifier\u001b[0m\u001b[0;34m]\u001b[0m\u001b[0;34m)\u001b[0m\u001b[0;34m\u001b[0m\u001b[0m\n",
      "\u001b[0;32m/Users/adamwood/amwenv/lib/python3.5/site-packages/bidict/_common.py\u001b[0m in \u001b[0;36mproxy\u001b[0;34m(self, *args)\u001b[0m\n\u001b[1;32m     94\u001b[0m         \u001b[0mattr\u001b[0m \u001b[0;34m=\u001b[0m \u001b[0mgetattr\u001b[0m\u001b[0;34m(\u001b[0m\u001b[0mself\u001b[0m\u001b[0;34m,\u001b[0m \u001b[0mattrname\u001b[0m\u001b[0;34m)\u001b[0m\u001b[0;34m\u001b[0m\u001b[0m\n\u001b[1;32m     95\u001b[0m         \u001b[0mmeth\u001b[0m \u001b[0;34m=\u001b[0m \u001b[0mgetattr\u001b[0m\u001b[0;34m(\u001b[0m\u001b[0mattr\u001b[0m\u001b[0;34m,\u001b[0m \u001b[0mmethodname\u001b[0m\u001b[0;34m)\u001b[0m\u001b[0;34m\u001b[0m\u001b[0m\n\u001b[0;32m---> 96\u001b[0;31m         \u001b[0;32mreturn\u001b[0m \u001b[0mmeth\u001b[0m\u001b[0;34m(\u001b[0m\u001b[0;34m*\u001b[0m\u001b[0margs\u001b[0m\u001b[0;34m)\u001b[0m\u001b[0;34m\u001b[0m\u001b[0m\n\u001b[0m\u001b[1;32m     97\u001b[0m     \u001b[0mproxy\u001b[0m\u001b[0;34m.\u001b[0m\u001b[0m__name__\u001b[0m \u001b[0;34m=\u001b[0m \u001b[0mmethodname\u001b[0m\u001b[0;34m\u001b[0m\u001b[0m\n\u001b[1;32m     98\u001b[0m     \u001b[0mproxy\u001b[0m\u001b[0;34m.\u001b[0m\u001b[0m__doc__\u001b[0m \u001b[0;34m=\u001b[0m \u001b[0mdoc\u001b[0m \u001b[0;32mor\u001b[0m \u001b[0;34m\"Like dict's ``%s``.\"\u001b[0m \u001b[0;34m%\u001b[0m \u001b[0mmethodname\u001b[0m\u001b[0;34m\u001b[0m\u001b[0m\n",
      "\u001b[0;31mKeyError\u001b[0m: 8"
     ]
    }
   ],
   "source": [
    "# This result is meaningless.\n",
    "chroma((8,12))  # KeyError"
   ]
  },
  {
   "cell_type": "markdown",
   "metadata": {},
   "source": [
    "Additionally, I need to include octave designations. The arithmetic is almost included for free with the functional approach, but the translation functions don't support it."
   ]
  },
  {
   "cell_type": "code",
   "execution_count": 39,
   "metadata": {},
   "outputs": [
    {
     "data": {
      "text/plain": [
       "(3, 5, 3)"
      ]
     },
     "execution_count": 39,
     "metadata": {},
     "output_type": "execute_result"
    }
   ],
   "source": [
    "# Maj Second (or D) and min 3, with a third term for octave designation\n",
    "augment((1,2,1), (2,3,2)) "
   ]
  },
  {
   "cell_type": "code",
   "execution_count": 40,
   "metadata": {},
   "outputs": [
    {
     "ename": "ValueError",
     "evalue": "too many values to unpack (expected 2)",
     "output_type": "error",
     "traceback": [
      "\u001b[0;31m---------------------------------------------------------------------------\u001b[0m",
      "\u001b[0;31mValueError\u001b[0m                                Traceback (most recent call last)",
      "\u001b[0;32m<ipython-input-40-3c4313b92e77>\u001b[0m in \u001b[0;36m<module>\u001b[0;34m()\u001b[0m\n\u001b[0;32m----> 1\u001b[0;31m \u001b[0mchroma\u001b[0m\u001b[0;34m(\u001b[0m\u001b[0;34m(\u001b[0m\u001b[0;36m3\u001b[0m\u001b[0;34m,\u001b[0m\u001b[0;36m5\u001b[0m\u001b[0;34m,\u001b[0m\u001b[0;36m3\u001b[0m\u001b[0;34m)\u001b[0m\u001b[0;34m)\u001b[0m \u001b[0;31m# F, 2 octaves above Middle C\u001b[0m\u001b[0;34m\u001b[0m\u001b[0m\n\u001b[0m",
      "\u001b[0;32m/Users/adamwood/amwenv/lib/python3.5/functools.py\u001b[0m in \u001b[0;36mwrapper\u001b[0;34m(*args, **kw)\u001b[0m\n\u001b[1;32m    741\u001b[0m \u001b[0;34m\u001b[0m\u001b[0m\n\u001b[1;32m    742\u001b[0m     \u001b[0;32mdef\u001b[0m \u001b[0mwrapper\u001b[0m\u001b[0;34m(\u001b[0m\u001b[0;34m*\u001b[0m\u001b[0margs\u001b[0m\u001b[0;34m,\u001b[0m \u001b[0;34m**\u001b[0m\u001b[0mkw\u001b[0m\u001b[0;34m)\u001b[0m\u001b[0;34m:\u001b[0m\u001b[0;34m\u001b[0m\u001b[0m\n\u001b[0;32m--> 743\u001b[0;31m         \u001b[0;32mreturn\u001b[0m \u001b[0mdispatch\u001b[0m\u001b[0;34m(\u001b[0m\u001b[0margs\u001b[0m\u001b[0;34m[\u001b[0m\u001b[0;36m0\u001b[0m\u001b[0;34m]\u001b[0m\u001b[0;34m.\u001b[0m\u001b[0m__class__\u001b[0m\u001b[0;34m)\u001b[0m\u001b[0;34m(\u001b[0m\u001b[0;34m*\u001b[0m\u001b[0margs\u001b[0m\u001b[0;34m,\u001b[0m \u001b[0;34m**\u001b[0m\u001b[0mkw\u001b[0m\u001b[0;34m)\u001b[0m\u001b[0;34m\u001b[0m\u001b[0m\n\u001b[0m\u001b[1;32m    744\u001b[0m \u001b[0;34m\u001b[0m\u001b[0m\n\u001b[1;32m    745\u001b[0m     \u001b[0mregistry\u001b[0m\u001b[0;34m[\u001b[0m\u001b[0mobject\u001b[0m\u001b[0;34m]\u001b[0m \u001b[0;34m=\u001b[0m \u001b[0mfunc\u001b[0m\u001b[0;34m\u001b[0m\u001b[0m\n",
      "\u001b[0;32m<ipython-input-28-f2a6c2b4cc47>\u001b[0m in \u001b[0;36m_\u001b[0;34m(xy)\u001b[0m\n\u001b[1;32m     12\u001b[0m \u001b[0;34m@\u001b[0m\u001b[0mchroma\u001b[0m\u001b[0;34m.\u001b[0m\u001b[0mregister\u001b[0m\u001b[0;34m(\u001b[0m\u001b[0mtuple\u001b[0m\u001b[0;34m)\u001b[0m\u001b[0;34m\u001b[0m\u001b[0m\n\u001b[1;32m     13\u001b[0m \u001b[0;32mdef\u001b[0m \u001b[0m_\u001b[0m\u001b[0;34m(\u001b[0m\u001b[0mxy\u001b[0m\u001b[0;34m)\u001b[0m\u001b[0;34m:\u001b[0m\u001b[0;34m\u001b[0m\u001b[0m\n\u001b[0;32m---> 14\u001b[0;31m     \u001b[0mx\u001b[0m\u001b[0;34m,\u001b[0m\u001b[0my\u001b[0m \u001b[0;34m=\u001b[0m \u001b[0mxy\u001b[0m\u001b[0;34m\u001b[0m\u001b[0m\n\u001b[0m\u001b[1;32m     15\u001b[0m     \u001b[0mname\u001b[0m \u001b[0;34m=\u001b[0m \u001b[0mname_map\u001b[0m\u001b[0;34m[\u001b[0m\u001b[0mx\u001b[0m\u001b[0;34m]\u001b[0m\u001b[0;34m\u001b[0m\u001b[0m\n\u001b[1;32m     16\u001b[0m     \u001b[0mmodifier\u001b[0m \u001b[0;34m=\u001b[0m \u001b[0mmodifiers\u001b[0m\u001b[0;34m[\u001b[0m\u001b[0my\u001b[0m \u001b[0;34m-\u001b[0m \u001b[0mhs_map\u001b[0m\u001b[0;34m[\u001b[0m\u001b[0mx\u001b[0m\u001b[0;34m]\u001b[0m\u001b[0;34m]\u001b[0m\u001b[0;34m\u001b[0m\u001b[0m\n",
      "\u001b[0;31mValueError\u001b[0m: too many values to unpack (expected 2)"
     ]
    }
   ],
   "source": [
    "# F, 2 octaves above Middle C\n",
    "chroma((3,5,3)) # ValueError"
   ]
  },
  {
   "cell_type": "markdown",
   "metadata": {},
   "source": [
    "The translation functions and associated dictionaries need to be extended to include multiple representations such as Unicode, ASCII, and [Lilypond](http://lilypond.org/text-input.html)."
   ]
  },
  {
   "cell_type": "markdown",
   "metadata": {},
   "source": [
    "Finally, I might also do some experiementation with a hybrid approach that would keep the OO API intact. However, that might get too complicated. "
   ]
  },
  {
   "cell_type": "markdown",
   "metadata": {},
   "source": [
    "## Is Functional Really Better?"
   ]
  },
  {
   "cell_type": "markdown",
   "metadata": {},
   "source": [
    "I don't know.\n",
    "\n",
    "The difference in execution speed can probably be resolved by cleaning up the OO implememenation and importing the tuple-based arithmetic instead of the union-of-sets approach. I suspect that this would also make the OO code easier to read and reason about. \n",
    "\n",
    "I'm not at all convinced that there is [something inherently wrong with object oriented code](http://harmful.cat-v.org/software/OO_programming/). However, I do think that a classical paradigm promotes a \"different things are different things\" mentality. In some cases this is probably helpful. In music, at least in this case, it obscured a fundamental sameness between two important concepts. Functional programming forced me to recognize that sameness. Someone else might have recognized it anyway, and written a good OO implementation first.\n",
    "\n",
    "If there is a generalizable lesson here, I think it might this: Think through a few different approaches and paradigms. Try coding up more than one logical implementation in the domain. See how that sheds light on the underlying problems and data structure.\n",
    "\n",
    "Also, don't be afraid to redesign things. Especially if you don't have any users yet.\n",
    "\n"
   ]
  }
 ],
 "metadata": {
  "kernelspec": {
   "display_name": "Python 3",
   "language": "python",
   "name": "python3"
  },
  "language_info": {
   "codemirror_mode": {
    "name": "ipython",
    "version": 3
   },
   "file_extension": ".py",
   "mimetype": "text/x-python",
   "name": "python",
   "nbconvert_exporter": "python",
   "pygments_lexer": "ipython3",
   "version": "3.5.1"
  }
 },
 "nbformat": 4,
 "nbformat_minor": 2
}
