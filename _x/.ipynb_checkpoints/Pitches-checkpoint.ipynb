{
 "cells": [
  {
   "cell_type": "code",
   "execution_count": 3,
   "metadata": {},
   "outputs": [],
   "source": [
    "wcs = set()\n",
    "\n",
    "class Chroma():\n",
    "    def __init__(self, name):\n",
    "        self.name = name\n",
    "        wcs.add(self)\n",
    "        \n",
    "    def __repr__(self):\n",
    "        return self.name\n",
    "        \n",
    "    def __call__(self, f):\n",
    "        print(\"called\")\n",
    "        def new_call(i):\n",
    "            return f(self, i)\n",
    "        self.__call__ = new_call\n",
    "        \n",
    " \n",
    "C = Chroma(\"C\")\n",
    "D = Chroma(\"D\")\n",
    "E = Chroma(\"E\")"
   ]
  },
  {
   "cell_type": "code",
   "execution_count": 4,
   "metadata": {},
   "outputs": [
    {
     "data": {
      "text/plain": [
       "C"
      ]
     },
     "execution_count": 4,
     "metadata": {},
     "output_type": "execute_result"
    }
   ],
   "source": [
    "C\n"
   ]
  },
  {
   "cell_type": "code",
   "execution_count": 6,
   "metadata": {
    "collapsed": true
   },
   "outputs": [],
   "source": [
    "class Pitch():\n",
    "\n",
    "    def __init__(self, chroma, octave):\n",
    "        self.chroma = chroma\n",
    "        self.octave = octave\n",
    "\n",
    "    def __repr__(self):\n",
    "        return self.chroma.__repr__() + str(self.octave)\n",
    "\n",
    "for chroma in wcs:\n",
    "    chroma(Pitch)"
   ]
  },
  {
   "cell_type": "code",
   "execution_count": 8,
   "metadata": {
    "collapsed": true
   },
   "outputs": [],
   "source": [
    "C(1)"
   ]
  }
 ],
 "metadata": {
  "kernelspec": {
   "display_name": "Python 3",
   "language": "python",
   "name": "python3"
  },
  "language_info": {
   "codemirror_mode": {
    "name": "ipython",
    "version": 3
   },
   "file_extension": ".py",
   "mimetype": "text/x-python",
   "name": "python",
   "nbconvert_exporter": "python",
   "pygments_lexer": "ipython3",
   "version": "3.5.1"
  }
 },
 "nbformat": 4,
 "nbformat_minor": 2
}
