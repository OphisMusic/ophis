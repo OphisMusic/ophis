{
 "cells": [
  {
   "cell_type": "code",
   "execution_count": 1,
   "metadata": {},
   "outputs": [],
   "source": [
    "wcs = set()\n",
    "\n",
    "class Chroma():\n",
    "    def __init__(self, name):\n",
    "        self.name = name\n",
    "        wcs.add(self)\n",
    "        \n",
    "    def __repr__(self):\n",
    "        return self.name\n",
    "        \n",
    "    def __call__(self, f):\n",
    "        print(\"called\")\n",
    "        def new_call(i):\n",
    "            return f(self, i)\n",
    "        self.__call__ = new_call\n",
    "        \n",
    " \n",
    "C = Chroma(\"C\")\n",
    "D = Chroma(\"D\")\n",
    "E = Chroma(\"E\")"
   ]
  },
  {
   "cell_type": "code",
   "execution_count": 7,
   "metadata": {},
   "outputs": [
    {
     "ename": "AttributeError",
     "evalue": "'Chroma' object has no attribute 'test'",
     "output_type": "error",
     "traceback": [
      "\u001b[0;31m---------------------------------------------------------------------------\u001b[0m",
      "\u001b[0;31mAttributeError\u001b[0m                            Traceback (most recent call last)",
      "\u001b[0;32m<ipython-input-7-66d37718b336>\u001b[0m in \u001b[0;36m<module>\u001b[0;34m()\u001b[0m\n\u001b[0;32m----> 1\u001b[0;31m \u001b[0mC\u001b[0m\u001b[0;34m.\u001b[0m\u001b[0mtest\u001b[0m\u001b[0;34m(\u001b[0m\u001b[0;34m)\u001b[0m\u001b[0;34m\u001b[0m\u001b[0m\n\u001b[0m",
      "\u001b[0;31mAttributeError\u001b[0m: 'Chroma' object has no attribute 'test'"
     ]
    }
   ],
   "source": [
    "C.test()\n"
   ]
  },
  {
   "cell_type": "code",
   "execution_count": 3,
   "metadata": {},
   "outputs": [
    {
     "name": "stdout",
     "output_type": "stream",
     "text": [
      "called\n",
      "called\n",
      "called\n"
     ]
    }
   ],
   "source": [
    "class Pitch():\n",
    "\n",
    "    def __init__(self, chroma, octave):\n",
    "        self.chroma = chroma\n",
    "        self.octave = octave\n",
    "\n",
    "    def __repr__(self):\n",
    "        return self.chroma.__repr__() + str(self.octave)\n",
    "\n",
    "for chroma in wcs:\n",
    "    chroma(Pitch)"
   ]
  },
  {
   "cell_type": "code",
   "execution_count": 4,
   "metadata": {},
   "outputs": [
    {
     "name": "stdout",
     "output_type": "stream",
     "text": [
      "called\n"
     ]
    }
   ],
   "source": [
    "C(1)"
   ]
  }
 ],
 "metadata": {
  "kernelspec": {
   "display_name": "Python 3",
   "language": "python",
   "name": "python3"
  },
  "language_info": {
   "codemirror_mode": {
    "name": "ipython",
    "version": 3
   },
   "file_extension": ".py",
   "mimetype": "text/x-python",
   "name": "python",
   "nbconvert_exporter": "python",
   "pygments_lexer": "ipython3",
   "version": "3.5.1"
  }
 },
 "nbformat": 4,
 "nbformat_minor": 2
}
