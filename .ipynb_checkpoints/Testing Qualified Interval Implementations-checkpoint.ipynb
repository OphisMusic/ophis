{
 "cells": [
  {
   "cell_type": "code",
   "execution_count": 1,
   "metadata": {
    "collapsed": false
   },
   "outputs": [],
   "source": [
    "from functools import lru_cache\n",
    "from itertools import count\n",
    "import random\n",
    "import time\n",
    "\n",
    "import ophis\n",
    "\n",
    "intervals = [*ophis.Interval.instances]\n",
    "r_s = random.randrange(100)\n"
   ]
  },
  {
   "cell_type": "code",
   "execution_count": 2,
   "metadata": {
    "collapsed": false
   },
   "outputs": [],
   "source": [
    "class QI_plain:\n",
    "    \n",
    "    total_QIs = 0\n",
    "    \n",
    "    def __init__(self, interval, octave):\n",
    "        self.interval = interval\n",
    "        self.octave = octave\n",
    "        self.__class__.total_QIs = self.__class__.total_QIs + 1\n",
    "        \n",
    "    # naive implementations of methods for testing    \n",
    "    \n",
    "    def augmented(self, distance):\n",
    "        return QI_plain(self.interval.augmented(distance), self.octave)\n",
    "    \n",
    "    def diminished(self, distance):\n",
    "        return QI_plain(self.interval.diminished(distance), self.octave)\n",
    "    \n",
    "    def inverted(self):\n",
    "        return QI_plain(self.interval.inverted(), self.octave)\n",
    "    \n",
    "    def octv(self, octaves=0):\n",
    "        return QI_plain(self.interval, (self.octave + octaves))"
   ]
  },
  {
   "cell_type": "code",
   "execution_count": 3,
   "metadata": {
    "collapsed": false
   },
   "outputs": [
    {
     "data": {
      "text/plain": [
       "False"
      ]
     },
     "execution_count": 3,
     "metadata": {},
     "output_type": "execute_result"
    }
   ],
   "source": [
    "x = QI_plain(ophis.M7, 2)\n",
    "y = QI_plain(ophis.M7, 2)\n",
    "z = QI_plain(ophis.M7, 2)\n",
    "\n",
    "x is y"
   ]
  },
  {
   "cell_type": "code",
   "execution_count": 4,
   "metadata": {
    "collapsed": false
   },
   "outputs": [
    {
     "data": {
      "text/plain": [
       "3"
      ]
     },
     "execution_count": 4,
     "metadata": {},
     "output_type": "execute_result"
    }
   ],
   "source": [
    "QI_plain.total_QIs"
   ]
  },
  {
   "cell_type": "code",
   "execution_count": 5,
   "metadata": {
    "collapsed": false
   },
   "outputs": [
    {
     "name": "stdout",
     "output_type": "stream",
     "text": [
      "5000000 instances created in 118.94781589508057 seconds.\n"
     ]
    }
   ],
   "source": [
    "random.seed(r_s) # that's the spirit\n",
    "\n",
    "start_plain_test = time.time()\n",
    "\n",
    "plain_set = set()\n",
    "\n",
    "for i in range(1000000):\n",
    "    interval = random.choice(intervals)\n",
    "    octaves = random.randrange(10)\n",
    "    plain_set.add(QI_plain(interval, octaves))\n",
    "    \n",
    "for x in [*plain_set]:\n",
    "    plain_set.add(x.augmented(random.randrange(5)))\n",
    "    plain_set.add(x.diminished(random.randrange(5)))\n",
    "    plain_set.add(x.inverted())\n",
    "    plain_set.add(x.octv(random.randrange(5)))\n",
    "    \n",
    "    \n",
    "plain_time = time.time() - start_plain_test\n",
    "\n",
    "print( str(len(plain_set)) + \" instances created in \" + str(plain_time) + \" seconds.\" )"
   ]
  },
  {
   "cell_type": "code",
   "execution_count": 6,
   "metadata": {
    "collapsed": true
   },
   "outputs": [],
   "source": [
    "@lru_cache(maxsize=None, typed=False)\n",
    "class QI_cache:\n",
    "    \n",
    "    total_QIs = 0\n",
    "    \n",
    "    def __init__(self, interval, octave):\n",
    "        self.interval = interval\n",
    "        self.octave = octave\n",
    "        self.__class__.total_QIs = self.__class__.total_QIs + 1\n",
    "        \n",
    "    # naive implementations of methods for testing    \n",
    "    \n",
    "    def augmented(self, distance):\n",
    "        return QI_cache(self.interval.augmented(distance), self.octave)\n",
    "    \n",
    "    def diminished(self, distance):\n",
    "        return QI_cache(self.interval.diminished(distance), self.octave)\n",
    "    \n",
    "    def inverted(self):\n",
    "        return QI_cache(self.interval.inverted(), self.octave)\n",
    "    \n",
    "    def octv(self, octaves=0):\n",
    "        return QI_cache(self.interval, (self.octave + octaves))"
   ]
  },
  {
   "cell_type": "code",
   "execution_count": 8,
   "metadata": {
    "collapsed": false
   },
   "outputs": [
    {
     "data": {
      "text/plain": [
       "True"
      ]
     },
     "execution_count": 8,
     "metadata": {},
     "output_type": "execute_result"
    }
   ],
   "source": [
    "x = QI_cache(ophis.M7, 2)\n",
    "y = QI_cache(ophis.M7, 2)\n",
    "z = QI_cache(ophis.M7, 2)\n",
    "\n",
    "x is y"
   ]
  },
  {
   "cell_type": "code",
   "execution_count": 11,
   "metadata": {
    "collapsed": false
   },
   "outputs": [
    {
     "name": "stdout",
     "output_type": "stream",
     "text": [
      "440 instances created in 4.87639307975769 seconds.\n"
     ]
    }
   ],
   "source": [
    "random.seed(r_s) # that's the spirit\n",
    "\n",
    "start_cache_test = time.time()\n",
    "\n",
    "cache_set = set()\n",
    "\n",
    "for i in range(1000000):\n",
    "    interval = random.choice(intervals)\n",
    "    octaves = random.randrange(10)\n",
    "    cache_set.add(QI_cache(interval, octaves))\n",
    "    \n",
    "for x in [*cache_set]:\n",
    "    plain_set.add(x.augmented(random.randrange(5)))\n",
    "    plain_set.add(x.diminished(random.randrange(5)))\n",
    "    plain_set.add(x.inverted())\n",
    "    plain_set.add(x.octv(random.randrange(5)))\n",
    "    \n",
    "    \n",
    "cache_time = time.time() - start_cache_test\n",
    "\n",
    "print( str(len(cache_set)) + \" instances created in \" + str(cache_time) + \" seconds.\" )"
   ]
  },
  {
   "cell_type": "code",
   "execution_count": 19,
   "metadata": {
    "collapsed": false
   },
   "outputs": [
    {
     "name": "stdout",
     "output_type": "stream",
     "text": [
      "OMG, it took 24.392581555585163 times as long.\n"
     ]
    }
   ],
   "source": [
    "magnitude = plain_time/cache_time\n",
    "print(\"OMG, it took \" + str(magnitude) + \" times as long.\")"
   ]
  },
  {
   "cell_type": "code",
   "execution_count": 17,
   "metadata": {
    "collapsed": false
   },
   "outputs": [
    {
     "name": "stdout",
     "output_type": "stream",
     "text": [
      "OMG, it would take 802.1686143572621 times as long to do simple things!\n"
     ]
    }
   ],
   "source": [
    "big_start = time.time()\n",
    "for i in range(1000000):\n",
    "    x = i\n",
    "big_time = time.time() - big_start\n",
    "\n",
    "small_start = time.time()\n",
    "for i in range(500):\n",
    "    x = i\n",
    "small_time = time.time() - small_start\n",
    "\n",
    "magnitude = big_time/small_time\n",
    "\n",
    "print(\"OMG, it would take \" + str(magnitude) + \" times as long to do simple things!\")"
   ]
  },
  {
   "cell_type": "code",
   "execution_count": null,
   "metadata": {
    "collapsed": true
   },
   "outputs": [],
   "source": []
  },
  {
   "cell_type": "code",
   "execution_count": null,
   "metadata": {
    "collapsed": true
   },
   "outputs": [],
   "source": []
  },
  {
   "cell_type": "code",
   "execution_count": null,
   "metadata": {
    "collapsed": true
   },
   "outputs": [],
   "source": []
  },
  {
   "cell_type": "code",
   "execution_count": null,
   "metadata": {
    "collapsed": true
   },
   "outputs": [],
   "source": []
  },
  {
   "cell_type": "code",
   "execution_count": null,
   "metadata": {
    "collapsed": true
   },
   "outputs": [],
   "source": []
  },
  {
   "cell_type": "code",
   "execution_count": 13,
   "metadata": {
    "collapsed": false
   },
   "outputs": [
    {
     "name": "stdout",
     "output_type": "stream",
     "text": [
      "0.0002028942108154297\n"
     ]
    }
   ],
   "source": []
  },
  {
   "cell_type": "code",
   "execution_count": null,
   "metadata": {
    "collapsed": true
   },
   "outputs": [],
   "source": []
  },
  {
   "cell_type": "code",
   "execution_count": null,
   "metadata": {
    "collapsed": true
   },
   "outputs": [],
   "source": []
  },
  {
   "cell_type": "code",
   "execution_count": null,
   "metadata": {
    "collapsed": true
   },
   "outputs": [],
   "source": []
  },
  {
   "cell_type": "code",
   "execution_count": null,
   "metadata": {
    "collapsed": true
   },
   "outputs": [],
   "source": []
  },
  {
   "cell_type": "code",
   "execution_count": null,
   "metadata": {
    "collapsed": true
   },
   "outputs": [],
   "source": []
  },
  {
   "cell_type": "code",
   "execution_count": null,
   "metadata": {
    "collapsed": true
   },
   "outputs": [],
   "source": []
  },
  {
   "cell_type": "code",
   "execution_count": null,
   "metadata": {
    "collapsed": true
   },
   "outputs": [],
   "source": []
  },
  {
   "cell_type": "code",
   "execution_count": null,
   "metadata": {
    "collapsed": true
   },
   "outputs": [],
   "source": []
  },
  {
   "cell_type": "code",
   "execution_count": null,
   "metadata": {
    "collapsed": true
   },
   "outputs": [],
   "source": []
  },
  {
   "cell_type": "code",
   "execution_count": null,
   "metadata": {
    "collapsed": true
   },
   "outputs": [],
   "source": []
  },
  {
   "cell_type": "code",
   "execution_count": null,
   "metadata": {
    "collapsed": true
   },
   "outputs": [],
   "source": []
  },
  {
   "cell_type": "code",
   "execution_count": null,
   "metadata": {
    "collapsed": true
   },
   "outputs": [],
   "source": []
  },
  {
   "cell_type": "code",
   "execution_count": null,
   "metadata": {
    "collapsed": true
   },
   "outputs": [],
   "source": []
  },
  {
   "cell_type": "code",
   "execution_count": null,
   "metadata": {
    "collapsed": true
   },
   "outputs": [],
   "source": []
  },
  {
   "cell_type": "code",
   "execution_count": null,
   "metadata": {
    "collapsed": true
   },
   "outputs": [],
   "source": []
  },
  {
   "cell_type": "code",
   "execution_count": null,
   "metadata": {
    "collapsed": true
   },
   "outputs": [],
   "source": []
  },
  {
   "cell_type": "code",
   "execution_count": null,
   "metadata": {
    "collapsed": true
   },
   "outputs": [],
   "source": []
  },
  {
   "cell_type": "code",
   "execution_count": null,
   "metadata": {
    "collapsed": true
   },
   "outputs": [],
   "source": []
  },
  {
   "cell_type": "code",
   "execution_count": null,
   "metadata": {
    "collapsed": false
   },
   "outputs": [],
   "source": []
  },
  {
   "cell_type": "code",
   "execution_count": null,
   "metadata": {
    "collapsed": true
   },
   "outputs": [],
   "source": []
  },
  {
   "cell_type": "code",
   "execution_count": null,
   "metadata": {
    "collapsed": true
   },
   "outputs": [],
   "source": []
  }
 ],
 "metadata": {
  "kernelspec": {
   "display_name": "Python 3",
   "language": "python",
   "name": "python3"
  },
  "language_info": {
   "codemirror_mode": {
    "name": "ipython",
    "version": 3
   },
   "file_extension": ".py",
   "mimetype": "text/x-python",
   "name": "python",
   "nbconvert_exporter": "python",
   "pygments_lexer": "ipython3",
   "version": "3.5.1"
  }
 },
 "nbformat": 4,
 "nbformat_minor": 2
}
